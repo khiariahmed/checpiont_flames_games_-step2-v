{
  "nbformat": 4,
  "nbformat_minor": 0,
  "metadata": {
    "colab": {
      "name": "checkpoint flames games (step2)v",
      "provenance": []
    },
    "kernelspec": {
      "display_name": "Python 3",
      "name": "python3"
    },
    "language_info": {
      "name": "python"
    }
  },
  "cells": [
    {
      "cell_type": "code",
      "metadata": {
        "colab": {
          "base_uri": "https://localhost:8080/"
        },
        "id": "MqprWe29K0Zg",
        "outputId": "70cfedbf-1e73-4e7c-d4f7-af58b213d60f"
      },
      "source": [
        "\n",
        "def remove_match_char(list1, list2):\n",
        " \n",
        "    for i in range(len(list1)) :\n",
        "        for j in range(len(list2)) :\n",
        " \n",
        "            if list1[i] == list2[j] :\n",
        "                c = list1[i]\n",
        " \n",
        "                list1.remove(c)\n",
        "                list2.remove(c)\n",
        " \n",
        "                \n",
        "                list3 = list1 + [\"*\"] + list2\n",
        " \n",
        "                \n",
        "                return [list3, True]\n",
        " \n",
        "    \n",
        "    list3 = list1 + [\"*\"] + list2\n",
        "    return [list3, False]\n",
        " \n",
        "\n",
        "if __name__ == \"__main__\" :\n",
        "     \n",
        "    \n",
        "    p1 = input(\"Player 1 name : \")\n",
        " \n",
        "    \n",
        "    p1 = p1.lower()\n",
        " \n",
        "    \n",
        "    p1.replace(\" \", \"\")\n",
        " \n",
        "    \n",
        "    p1_list = list(p1)\n",
        " \n",
        "    \n",
        "    p2 = input(\"Player 2 name : \")\n",
        "    p2 = p2.lower()\n",
        "    p2.replace(\" \", '')\n",
        "    p2_list = list(p2)\n",
        " \n",
        "    \n",
        "    proceed = True\n",
        "     \n",
        "    \n",
        "    while proceed :\n",
        " \n",
        "        \n",
        "        ret_list = remove_match_char(p1_list, p2_list)\n",
        " \n",
        "        \n",
        "        con_list = ret_list[0]\n",
        " \n",
        "        \n",
        "        proceed = ret_list[1]\n",
        " \n",
        "        \n",
        "        star_index = con_list.index(\"*\")\n",
        " \n",
        "      \n",
        "        p1_list = con_list[ : star_index]\n",
        " \n",
        "        \n",
        "        p2_list = con_list[star_index + 1 : ]\n",
        " \n",
        " \n",
        "    \n",
        "    count = len(p1_list) + len(p2_list)\n",
        " \n",
        "    \n",
        "    result = [\"Friends\", \"Love\", \"Affection\", \"Marriage\", \"Enemy\", \"Siblings\"]\n",
        " \n",
        "    \n",
        "    \n",
        "    while len(result) > 1 :\n",
        " \n",
        "        \n",
        "        split_index = (count % len(result) - 1)\n",
        " \n",
        "        \n",
        "        if split_index >= 0 :\n",
        " \n",
        "            \n",
        "            right = result[split_index + 1 : ]\n",
        "            left = result[ : split_index]\n",
        " \n",
        "            \n",
        "            result = right + left\n",
        " \n",
        "        else :\n",
        "            result = result[ : len(result) - 1]\n",
        " \n",
        "    \n",
        "    print(\"Relationship status :\", result[0])\n"
      ],
      "execution_count": 46,
      "outputs": [
        {
          "output_type": "stream",
          "text": [
            "Player 1 name : ahmed rached\n",
            "Player 2 name : darine\n",
            "Relationship status : Love\n"
          ],
          "name": "stdout"
        }
      ]
    }
  ]
}